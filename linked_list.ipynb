{
 "cells": [
  {
   "cell_type": "markdown",
   "metadata": {},
   "source": [
    "# Singly-linked List\n",
    "\n",
    "Imagine I bring you a stack of one million papers. I tell you a few bits of information; the papers are instructions I want you to perform, the pages are in order from 1 to 1,000,000, start reading at 1, end at 1,000,000, and save find a way to save your place so you can leave and come back later to continue reading.\n",
    "\n",
    "You would simply take the top sheet of paper from the top, read it, then set it aside. You would repeat this process until you've read the entire stack. If you need to walk away, just leave the stack of papers as it is; you simply grab the top one when it is time to start again.\n",
    "\n",
    "For computing, this is a specific use case with specific needs. I need to be able to find the beginning of the stack of papers. For a physical stack of papers it's the top sheet. For a computer stack, however, we need to store the pages in a data structure that provides a few features; it needs to track the beginning and the end so we know we read the whole stack of instructions and didn't miss any pages, and when we're building the stack into memory we need to be able to add a page to the end so we can populate the data structure with our book. We also might need to add pages at the beginning in case I have something I need you to do immediately instead of waiting until the end.\n",
    "\n",
    "Now, when a computer builds an array, it blocks out the space for the array in memory. As of writing, this was 56 bytes in memory. Then, as you add characters, you add 8 bytes (UTF-8 encoding)."
   ]
  },
  {
   "cell_type": "code",
   "execution_count": 66,
   "metadata": {},
   "outputs": [
    {
     "name": "stdout",
     "output_type": "stream",
     "text": [
      "An empty list: 56 bytes\n"
     ]
    }
   ],
   "source": [
    "import sys\n",
    "\n",
    "list1 = []\n",
    "\n",
    "print(f'An empty list: {sys.getsizeof(list1)} bytes')"
   ]
  },
  {
   "cell_type": "code",
   "execution_count": 67,
   "metadata": {},
   "outputs": [
    {
     "name": "stdout",
     "output_type": "stream",
     "text": [
      "A list with one value: 64 bytes\n"
     ]
    }
   ],
   "source": [
    "list1 = [1]\n",
    "\n",
    "print(f'A list with one value: {sys.getsizeof(list1)} bytes')"
   ]
  },
  {
   "cell_type": "code",
   "execution_count": 68,
   "metadata": {},
   "outputs": [
    {
     "name": "stdout",
     "output_type": "stream",
     "text": [
      "A list with two values: 72 bytes\n"
     ]
    }
   ],
   "source": [
    "list1 = [1, 2]\n",
    "\n",
    "print(f'A list with two values: {sys.getsizeof(list1)} bytes')"
   ]
  },
  {
   "cell_type": "markdown",
   "metadata": {},
   "source": [
    "In all the ubiquitious programming languages arrays are indexable, meaning each value has an index pointing to it's place in the array. In Python, arrays indices start at 0 because arrays contain an index that denotes how far from the beginning each item is. The first item in the array is 0 elements away from the start. The second item in the array is 1 element away from the start. Therefore, the first item in a list is index 0, the second is index 1, and so forth.\n",
    "\n",
    "We reference items by their index, without knowing the value, as such:"
   ]
  },
  {
   "cell_type": "code",
   "execution_count": 69,
   "metadata": {},
   "outputs": [
    {
     "data": {
      "text/plain": [
       "'page2'"
      ]
     },
     "execution_count": 69,
     "metadata": {},
     "output_type": "execute_result"
    }
   ],
   "source": [
    "a = ['page1', 'page2', 'page3']\n",
    "\n",
    "a[1]"
   ]
  },
  {
   "cell_type": "markdown",
   "metadata": {},
   "source": [
    "Note that the printed result, 'page2', is the second item in the array and we referenced it with index position 1. \n",
    "\n",
    "In English, `a[1]` is like saying, \"give the array called `a`, return to me the value that is 1 element from the start.\"\n",
    "\n",
    "Now, let's say we need to add an item to our array, and we want our array to remain in alphabetical order. Remember, the computer indexes values in the array by noting their distance from the beginning of the array. This means if we add a value to the beginning of the array, all other elements in the array need to be shifted, or have their indices reassigned to account for this shift."
   ]
  },
  {
   "cell_type": "code",
   "execution_count": 70,
   "metadata": {},
   "outputs": [
    {
     "data": {
      "text/plain": [
       "['foreward', 'page1', 'page2', 'page3']"
      ]
     },
     "execution_count": 70,
     "metadata": {},
     "output_type": "execute_result"
    }
   ],
   "source": [
    "a.insert(0, 'foreward')\n",
    "a"
   ]
  },
  {
   "cell_type": "code",
   "execution_count": 71,
   "metadata": {},
   "outputs": [
    {
     "data": {
      "text/plain": [
       "'page1'"
      ]
     },
     "execution_count": 71,
     "metadata": {},
     "output_type": "execute_result"
    }
   ],
   "source": [
    "a[1]"
   ]
  },
  {
   "cell_type": "markdown",
   "metadata": {},
   "source": [
    "Because we inserted at position 0 (the beginning), 'page1' is now index position 1 instead of 'page2'.\n",
    "\n",
    "Now, think back to our stack of instructions. Imagine the stack of one million pages again. Every time you take a page off the stack, you are changing the array of stacked papers. The top page becomes the 0 index position of the page stack.\n",
    "\n",
    "> If you get hung up on the idea that we could just track which page we are on imagine for a moment that, being the paranoid totalitarian I am, I demand you shred the page after you read it.\n",
    "\n",
    "Similarly, our array in memory needs to be reindexed if we add to the front. This means that our computer will have to reassign the indices of all pages, minus one, every time we read another. Depending on how many instructions we have, this may take forever, crash our computer, or other nefarious weapons of subtlety and subversion the computer might employ.\n",
    "\n",
    "We need a different data structure; a way to add to the beginning of this stack of papers, without worrying about everything else in between. We can't use an array, because by its nature it is indexed. We need a linked list.\n",
    "\n",
    "Linked lists have a few unique properties. For one, once the values of our linked list are stored in memory they need not be referenced by some index or map or other method. In the same way that I instructed you only to read the top page, we only need the first item of the list and we need not know any of the other pages in the stack. As such, each page of the stack of instructions would be stored in memory, and for a singly-linked list, the page would tell you which page to read next. In a stack of physical papers, like our imaginary stack of instructions, this would be simply the next page in the stack. For a computer, we can store a tidbit of information that points us to the next page.\n",
    "\n",
    "A singly-linked list needs only a few parameters and steps to implement in this way. You create `n` number of nodes each containing a desired value and a pointer to the next node, the first item in the list is flagged as the head, and the last item as the tail. In this way, we can always immediately reference the first and last item in the list. A singly-linked list is optimized to store the least amount of information possible in order to have a list that can be navigated sequentially from the beginning, and new items can be added to or removed from the start if necessary."
   ]
  },
  {
   "cell_type": "code",
   "execution_count": 109,
   "metadata": {},
   "outputs": [],
   "source": [
    "class ListNode:\n",
    "    def __init__(self, val=0, next=None):\n",
    "        self.val = val\n",
    "        self.next = next\n",
    "\n",
    "class LinkedList:\n",
    "    \"\"\"\n",
    "    Define a linked list.\n",
    "    \"\"\"\n",
    "    def __init__(self, head=None, tail=None):\n",
    "        \n",
    "        self.head = head\n",
    "        self.tail = tail\n",
    "        self.length = 0\n",
    "        self._lenSet()\n",
    "\n",
    "    def __len__(self):\n",
    "        return self.length\n",
    "\n",
    "    def __repr__(self):\n",
    "        return f'A linked list of length {self.length}.'\n",
    "    \n",
    "    def _lenSet(self):              # O(n)\n",
    "        l = self.head\n",
    "\n",
    "        if self.head is None:\n",
    "            self.length = 0\n",
    "\n",
    "        else:\n",
    "            while l.next:\n",
    "                self.length += 1\n",
    "                l = l.next\n",
    "            self.length += 1\n",
    "\n",
    "    def appendRight(self, val=0):   # O(1)\n",
    "        l = ListNode(val)\n",
    "\n",
    "        if self.head is None:\n",
    "            self.head = l\n",
    "            self.tail = l\n",
    "\n",
    "        else:\n",
    "            self.tail.next = l\n",
    "            self.tail = l\n",
    "\n",
    "        self.length += 1\n",
    "\n",
    "    def appendLeft(self, val=0):    # O(1)\n",
    "        l = ListNode(val)\n",
    "        \n",
    "        if self.head is None:\n",
    "            self.head = l\n",
    "            self.tail = l\n",
    "            \n",
    "        else:\n",
    "            l.next = self.head\n",
    "            self.head = l\n",
    "\n",
    "        self.length += 1\n",
    "\n",
    "    def popLeft(self):              # O(1)\n",
    "        if self.head is None:\n",
    "            return None\n",
    "        \n",
    "        l = self.head\n",
    "        self.head = self.head.next\n",
    "        self.length -= 1\n",
    "\n",
    "        return l\n",
    "\n",
    "    def popRight(self):             # O(n)\n",
    "\n",
    "        if self.tail is None:\n",
    "            return None\n",
    "\n",
    "        l = self.tail\n",
    "        x = self.head\n",
    "        while id(x.next) != id(l):\n",
    "            x = x.next\n",
    "        \n",
    "        self.tail = x\n",
    "        l = x.next\n",
    "        self.tail.next = None\n",
    "        self.length -= 1\n",
    "\n",
    "        return l\n",
    "\n",
    "    def insertMid(self, pos=2, val=None):\n",
    "        if pos < 2:\n",
    "            print('pos must be higher than 1.')\n",
    "            exit\n",
    "        \n",
    "        n = ListNode(val)\n",
    "        counter = 0\n",
    "        l = self.head\n",
    "        \n",
    "        while pos-2 != counter:\n",
    "\n",
    "            if counter+2 == self.length:\n",
    "                print('Reached the tail! Insert at lower position.')\n",
    "                return None\n",
    "                \n",
    "            l = l.next\n",
    "            counter += 1\n",
    "        former_next = l.next\n",
    "        l.next = n\n",
    "        n.next = former_next\n",
    "\n",
    "    def printList(self):            # O(n)\n",
    "        l = self.head\n",
    "        try:\n",
    "            while l.next:\n",
    "                print(l.val)\n",
    "                l = l.next\n",
    "            print(l.val)\n",
    "        except AttributeError: return None"
   ]
  },
  {
   "cell_type": "markdown",
   "metadata": {},
   "source": [
    "Note that appendRight, appendLeft, and popLeft are all O(1) time complexity functions. This is the advantage of a linked list. Because we always know the head and tail, we can reference them to perform these functions without knowing the rest of the list.\n",
    "\n",
    "appendRight() creates a new node, assigns it to the tail's next pointer, then reassigns the new node as the tail. In this way, the former tail now points to the new tail node. This takes the same amount of time every time the function is performed and is independent of the size of the list.\n",
    "\n",
    "appendLeft() creates a new node, sets the current head to the new node's next pointer, then reassigns the new node as the head.\n",
    "\n",
    "popLeft() captures the former head, sets the new head as the former head's next pointer, then returns the former head. Think of it as the computer simply forgetting the first item in the list and calling the next item the new start.\n",
    "\n",
    "popRight() is one of our O(n) time complexity functions because it depends on the length of the input. This is because a singly-linked list only points to the next node in the list. In order to replace the tail, you need to know the node before it in the list. That means we need to look through the length of the list, find the node that points to the tail, reassign it as the tail, and return the former tail."
   ]
  },
  {
   "cell_type": "code",
   "execution_count": 110,
   "metadata": {},
   "outputs": [],
   "source": [
    "ll = LinkedList()\n",
    "for i in range(1,101):\n",
    "    ll.appendRight(i)"
   ]
  }
 ],
 "metadata": {
  "kernelspec": {
   "display_name": "Python 3.10.7 64-bit",
   "language": "python",
   "name": "python3"
  },
  "language_info": {
   "codemirror_mode": {
    "name": "ipython",
    "version": 3
   },
   "file_extension": ".py",
   "mimetype": "text/x-python",
   "name": "python",
   "nbconvert_exporter": "python",
   "pygments_lexer": "ipython3",
   "version": "3.10.7"
  },
  "orig_nbformat": 4,
  "vscode": {
   "interpreter": {
    "hash": "916dbcbb3f70747c44a77c7bcd40155683ae19c65e1c03b4aa3499c5328201f1"
   }
  }
 },
 "nbformat": 4,
 "nbformat_minor": 2
}
