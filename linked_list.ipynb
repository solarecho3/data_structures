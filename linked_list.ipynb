{
 "cells": [
  {
   "cell_type": "markdown",
   "metadata": {},
   "source": [
    "# Singly-linked List"
   ]
  },
  {
   "cell_type": "code",
   "execution_count": 339,
   "metadata": {},
   "outputs": [],
   "source": [
    "class ListNode:\n",
    "    def __init__(self, val=0, next=None):\n",
    "        self.val = val\n",
    "        self.next = next\n",
    "\n",
    "class LinkedList:\n",
    "    \"\"\"\n",
    "    Define a linked list\n",
    "    \"\"\"\n",
    "    def __init__(self, head=None, tail=None):\n",
    "        \n",
    "        self.head = head\n",
    "        self.tail = tail\n",
    "        self.length = 0\n",
    "        self._lenSet()\n",
    "\n",
    "    def __len__(self):\n",
    "        return self.length\n",
    "\n",
    "    def __repr__(self):\n",
    "        return f'A linked list of length {self.length}.'\n",
    "    \n",
    "    def _lenSet(self):\n",
    "        '''\n",
    "        Starting at the head,\n",
    "\n",
    "        if the head is none, length is 0\n",
    "\n",
    "        else\n",
    "\n",
    "        while node has a next\n",
    "\n",
    "        add 1 to the length ,\n",
    "        point to next node, and\n",
    "        stop at the last node.\n",
    "        \n",
    "        Finally, add 1 to the length\n",
    "        '''\n",
    "        \n",
    "        l = self.head\n",
    "\n",
    "        if self.head is None:\n",
    "            self.length = 0\n",
    "\n",
    "        else:\n",
    "            while l.next:\n",
    "                self.length += 1\n",
    "                l = l.next\n",
    "            self.length += 1\n",
    "\n",
    "    def appendNode(self, val=0):\n",
    "        l = ListNode(val)\n",
    "\n",
    "        if self.head is None:\n",
    "            self.head = l\n",
    "            self.tail = l\n",
    "\n",
    "        else:\n",
    "            self.tail.next = l\n",
    "            self.tail = l\n",
    "        self.length += 1\n",
    "\n",
    "    def appendLeft(self, val=0):\n",
    "        l = ListNode(val)\n",
    "\n",
    "        if self.head is None:\n",
    "            self.head = l\n",
    "            self.tail = l\n",
    "        \n",
    "        else:\n",
    "\n",
    "            l.next = self.head\n",
    "            self.head = l\n",
    "        self.length += 1\n",
    "\n",
    "    def popLeft(self):\n",
    "        if self.head is None:\n",
    "            return None\n",
    "        \n",
    "        l = self.head\n",
    "        self.head = self.head.next\n",
    "        self.length -= 1\n",
    "        return l\n",
    "\n",
    "    def popRight(self):\n",
    "\n",
    "        if self.tail is None:\n",
    "            return None\n",
    "\n",
    "        l = self.tail\n",
    "        x = self.head\n",
    "        while id(x.next) != id(l):\n",
    "            x = x.next\n",
    "        \n",
    "        self.tail = x\n",
    "        l = x.next\n",
    "        self.tail.next = None\n",
    "        return l\n",
    "\n",
    "    def printList(self):\n",
    "        l = self.head\n",
    "        try:\n",
    "            while l.next:\n",
    "                print(l.val)\n",
    "                l = l.next\n",
    "            print(l.val)\n",
    "        except AttributeError: return None"
   ]
  },
  {
   "cell_type": "code",
   "execution_count": 340,
   "metadata": {},
   "outputs": [],
   "source": [
    "ll = LinkedList()"
   ]
  },
  {
   "cell_type": "code",
   "execution_count": 341,
   "metadata": {},
   "outputs": [],
   "source": [
    "ll.appendNode('Adam')\n",
    "ll.appendNode('Ann')\n",
    "ll.appendNode('Stormy')\n",
    "ll.appendNode('Harley')"
   ]
  },
  {
   "cell_type": "code",
   "execution_count": 342,
   "metadata": {},
   "outputs": [
    {
     "name": "stdout",
     "output_type": "stream",
     "text": [
      "Adam\n",
      "Ann\n",
      "Stormy\n",
      "Harley\n"
     ]
    }
   ],
   "source": [
    "ll.printList()"
   ]
  },
  {
   "cell_type": "code",
   "execution_count": 343,
   "metadata": {},
   "outputs": [],
   "source": [
    "ll.appendLeft('Family')"
   ]
  },
  {
   "cell_type": "code",
   "execution_count": 344,
   "metadata": {},
   "outputs": [
    {
     "name": "stdout",
     "output_type": "stream",
     "text": [
      "Family\n",
      "Adam\n",
      "Ann\n",
      "Stormy\n",
      "Harley\n"
     ]
    }
   ],
   "source": [
    "ll.printList()"
   ]
  },
  {
   "cell_type": "code",
   "execution_count": 345,
   "metadata": {},
   "outputs": [
    {
     "data": {
      "text/plain": [
       "5"
      ]
     },
     "execution_count": 345,
     "metadata": {},
     "output_type": "execute_result"
    }
   ],
   "source": [
    "ll.length"
   ]
  },
  {
   "cell_type": "code",
   "execution_count": 346,
   "metadata": {},
   "outputs": [
    {
     "data": {
      "text/plain": [
       "<__main__.ListNode at 0x7f3aa3017580>"
      ]
     },
     "execution_count": 346,
     "metadata": {},
     "output_type": "execute_result"
    }
   ],
   "source": [
    "ll.popLeft()"
   ]
  },
  {
   "cell_type": "code",
   "execution_count": 347,
   "metadata": {},
   "outputs": [
    {
     "name": "stdout",
     "output_type": "stream",
     "text": [
      "Adam\n",
      "Ann\n",
      "Stormy\n",
      "Harley\n"
     ]
    }
   ],
   "source": [
    "ll.printList()"
   ]
  },
  {
   "cell_type": "code",
   "execution_count": 348,
   "metadata": {},
   "outputs": [
    {
     "data": {
      "text/plain": [
       "4"
      ]
     },
     "execution_count": 348,
     "metadata": {},
     "output_type": "execute_result"
    }
   ],
   "source": [
    "ll.length"
   ]
  },
  {
   "cell_type": "code",
   "execution_count": 349,
   "metadata": {},
   "outputs": [
    {
     "data": {
      "text/plain": [
       "'Harley'"
      ]
     },
     "execution_count": 349,
     "metadata": {},
     "output_type": "execute_result"
    }
   ],
   "source": [
    "ll.popRight().val"
   ]
  },
  {
   "cell_type": "code",
   "execution_count": 350,
   "metadata": {},
   "outputs": [
    {
     "name": "stdout",
     "output_type": "stream",
     "text": [
      "Adam\n",
      "Ann\n",
      "Stormy\n"
     ]
    }
   ],
   "source": [
    "ll.printList()"
   ]
  },
  {
   "cell_type": "code",
   "execution_count": 351,
   "metadata": {},
   "outputs": [],
   "source": [
    "ll.appendNode(\"Harley\")"
   ]
  },
  {
   "cell_type": "code",
   "execution_count": 353,
   "metadata": {},
   "outputs": [
    {
     "name": "stdout",
     "output_type": "stream",
     "text": [
      "Adam\n",
      "Ann\n",
      "Stormy\n",
      "Harley\n"
     ]
    }
   ],
   "source": [
    "ll.printList()"
   ]
  },
  {
   "cell_type": "code",
   "execution_count": null,
   "metadata": {},
   "outputs": [],
   "source": []
  }
 ],
 "metadata": {
  "kernelspec": {
   "display_name": "Python 3.10.7 64-bit",
   "language": "python",
   "name": "python3"
  },
  "language_info": {
   "codemirror_mode": {
    "name": "ipython",
    "version": 3
   },
   "file_extension": ".py",
   "mimetype": "text/x-python",
   "name": "python",
   "nbconvert_exporter": "python",
   "pygments_lexer": "ipython3",
   "version": "3.10.7"
  },
  "orig_nbformat": 4,
  "vscode": {
   "interpreter": {
    "hash": "916dbcbb3f70747c44a77c7bcd40155683ae19c65e1c03b4aa3499c5328201f1"
   }
  }
 },
 "nbformat": 4,
 "nbformat_minor": 2
}
