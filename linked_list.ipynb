{
 "cells": [
  {
   "cell_type": "markdown",
   "metadata": {},
   "source": [
    "# Singly-linked List\n",
    "\n",
    "Imagine I bring you a stack of one million papers. I tell you a few bits of information about the papers; the papers are instructions I want you to perform, the pages are in order from 1 to 1,000,000, start reading at 1, end at 1,000,000, and find a way to save your place so you can leave and come back later to continue reading.\n",
    "\n",
    "You would simply take the top sheet of paper from the top, read it, then set it aside. You would repeat this process until you've read the entire stack. If you need to walk away, just leave the stack of papers as it is; you simply grab the top one when it is time to start again.\n",
    "\n",
    "For computing, this is a specific use case with specific needs. I need to be able to find the beginning of the stack of papers. For a physical stack of papers it's the top sheet. For a computer stack, however, we need to store the pages in a data structure that provides a few features; it needs to track the beginning and the end so we know we read the whole stack of instructions and didn't miss any pages, and when we're building the stack into memory we need to be able to add a page to the end so we can populate the data structure with our book. We also might need to add pages at the beginning in case I have something I need you to do immediately instead of waiting until the end. Lastly, we want to be able to insert pages into the book should we need to revise the list later, as well as pop values out of the list as we read them so we don't read them twice.\n",
    "\n",
    "Now, when a computer builds an array, it blocks out space for the array in memory. In Python an empty list, analogous to an array, is 56 bytes in memory. Then, as you add characters, you add 8 bytes (UTF-8 encoding)."
   ]
  },
  {
   "cell_type": "code",
   "execution_count": 34,
   "metadata": {},
   "outputs": [
    {
     "name": "stdout",
     "output_type": "stream",
     "text": [
      "list_1 = []: 56 bytes\n"
     ]
    }
   ],
   "source": [
    "import sys\n",
    "list_1 = []\n",
    "print(f'list_1 = []: {sys.getsizeof(list_1)} bytes')\n"
   ]
  },
  {
   "cell_type": "markdown",
   "metadata": {},
   "source": [
    "In all the ubiquitious programming languages arrays are indexed, meaning each value has an index pointing to it's place in the array. In Python, arrays indices start at 0 because arrays contain an index that denotes how far from the beginning each item is. The first item in the array is 0 elements away from the start. The second item in the array is 1 element away from the start. Therefore, the first item in a list is index 0, the second is index 1, and so forth.\n",
    "\n",
    "We reference items by their index, without knowing the value, as such:"
   ]
  },
  {
   "cell_type": "code",
   "execution_count": 35,
   "metadata": {},
   "outputs": [
    {
     "data": {
      "text/plain": [
       "'page2'"
      ]
     },
     "execution_count": 35,
     "metadata": {},
     "output_type": "execute_result"
    }
   ],
   "source": [
    "a = ['page1', 'page2', 'page3']\n",
    "\n",
    "a[1]"
   ]
  },
  {
   "cell_type": "markdown",
   "metadata": {},
   "source": [
    "Note that the printed result, 'page2', is the second item in the array and we referenced it with index position 1. \n",
    "\n",
    "In English, `a[1]` is like saying, \"give the array called `a`, return to me the value that is 1 element from the start.\"\n",
    "\n",
    "Now, let's say we need to add an item to our array, and we want our array to remain in alphabetical order. Remember, the computer indexes values in the array by noting their distance from the beginning of the array. This means if we add a value to the beginning of the array, all other elements in the array need to be shifted, or have their indices reassigned to account for this shift."
   ]
  },
  {
   "cell_type": "code",
   "execution_count": 36,
   "metadata": {},
   "outputs": [
    {
     "data": {
      "text/plain": [
       "['foreward', 'page1', 'page2', 'page3']"
      ]
     },
     "execution_count": 36,
     "metadata": {},
     "output_type": "execute_result"
    }
   ],
   "source": [
    "a.insert(0, 'foreward')\n",
    "a"
   ]
  },
  {
   "cell_type": "code",
   "execution_count": 37,
   "metadata": {},
   "outputs": [
    {
     "data": {
      "text/plain": [
       "'page1'"
      ]
     },
     "execution_count": 37,
     "metadata": {},
     "output_type": "execute_result"
    }
   ],
   "source": [
    "a[1]"
   ]
  },
  {
   "cell_type": "markdown",
   "metadata": {},
   "source": [
    "Because we inserted at position 0 (the beginning), 'page1' is now index position 1 instead of 'page2'.\n",
    "\n",
    "Now, think back to our stack of instructions. Imagine the stack of one million pages again. Every time you take a page off the stack, you are changing the array of stacked papers. The top page becomes the 0 index position of the page stack.\n",
    "\n",
    "> If you get hung up on the idea that we could just track which page we are on imagine for a moment that, being the paranoid totalitarian I am, I demand you shred the page after you read it.\n",
    "\n",
    "Similarly, our array in memory needs to be reindexed if we add to the front. This means that our computer will have to reassign the indices of all pages, minus one, every time we read another. Depending on how many instructions we have, this may take forever, crash our computer, or other nefarious weapons of subtlety and subversion the computer might employ.\n",
    "\n",
    "We need a different data structure; a way to add to the beginning of this stack of papers, without worrying about everything else in between. We can't use an array, because by its nature it is indexed. We need a linked list.\n",
    "\n",
    "Linked lists have a few unique properties. For one, once the values of our linked list are stored in memory they need not be referenced by some index or map or other method. In the same way that I instructed you only to read the top page, we only need the first item of the list and we need not know any of the other pages in the stack. As such, each page of the stack of instructions would be stored in memory, and for a singly-linked list, the page would tell you which page to read next. In a stack of physical papers, like our imaginary stack of instructions, this would be simply the next page in the stack. For a computer, we can store a tidbit of information that points us to the next page.\n",
    "\n",
    "A singly-linked list needs only a few parameters and steps to implement in this way. You create `n` number of nodes each containing a desired value and a pointer to the next node, the first item in the list is flagged as the head, and the last item as the tail. In this way, we can always immediately reference the first and last item in the list. A singly-linked list is optimized to store the least amount of information possible in order to have a list that can be navigated sequentially from the beginning, and new items can be added to or removed from the start if necessary."
   ]
  },
  {
   "cell_type": "code",
   "execution_count": 38,
   "metadata": {},
   "outputs": [],
   "source": [
    "class ListNode:\n",
    "    def __init__(self, val=0, next=None):\n",
    "        self.val = val\n",
    "        self.next = next\n",
    "\n",
    "class LinkedList:\n",
    "    \"\"\"\n",
    "    Define a linked list.\n",
    "    \"\"\"\n",
    "    def __init__(self, head=None, tail=None):\n",
    "        \n",
    "        self.head = head\n",
    "        self.tail = tail\n",
    "        self.length = 0\n",
    "        self._lenSet()\n",
    "\n",
    "    def __len__(self):\n",
    "        return self.length\n",
    "\n",
    "    def __repr__(self):\n",
    "        return f'A linked list of length {self.length}.'\n",
    "    \n",
    "    def _lenSet(self):              # O(n)\n",
    "        l = self.head\n",
    "\n",
    "        if self.head is None:\n",
    "            self.length = 0\n",
    "\n",
    "        else:\n",
    "            while l.next:\n",
    "                self.length += 1\n",
    "                l = l.next\n",
    "            self.length += 1\n",
    "\n",
    "    def appendRight(self, val=0):   # O(1)\n",
    "        l = ListNode(val)\n",
    "\n",
    "        if self.head is None:\n",
    "            self.head = l\n",
    "            self.tail = l\n",
    "\n",
    "        else:\n",
    "            self.tail.next = l\n",
    "            self.tail = l\n",
    "\n",
    "        self.length += 1\n",
    "\n",
    "    def appendLeft(self, val=0):    # O(1)\n",
    "        l = ListNode(val)\n",
    "        \n",
    "        if self.head is None:\n",
    "            self.head = l\n",
    "            self.tail = l\n",
    "            \n",
    "        else:\n",
    "            l.next = self.head\n",
    "            self.head = l\n",
    "\n",
    "        self.length += 1\n",
    "\n",
    "    def popLeft(self):              # O(1)\n",
    "        if self.head is None:\n",
    "            return None\n",
    "        \n",
    "        l = self.head\n",
    "        self.head = self.head.next\n",
    "        self.length -= 1\n",
    "\n",
    "        return l\n",
    "\n",
    "    def popRight(self):             # O(n)\n",
    "\n",
    "        if self.tail is None:\n",
    "            return None\n",
    "\n",
    "        l = self.tail\n",
    "        x = self.head\n",
    "        while id(x.next) != id(l):\n",
    "            x = x.next\n",
    "        \n",
    "        self.tail = x\n",
    "        l = x.next\n",
    "        self.tail.next = None\n",
    "        self.length -= 1\n",
    "\n",
    "        return l\n",
    "\n",
    "    def insertMid(self, pos=2, val=None):   # O(n)\n",
    "        if pos < 2:\n",
    "            print('pos must be higher than 1.')\n",
    "            exit\n",
    "        \n",
    "        n = ListNode(val)\n",
    "        counter = 0\n",
    "        l = self.head\n",
    "        \n",
    "        while pos-2 != counter:\n",
    "\n",
    "            if counter+2 == self.length:\n",
    "                print('Reached the tail! Insert at lower position.')\n",
    "                return None\n",
    "                \n",
    "            l = l.next\n",
    "            counter += 1\n",
    "        former_next = l.next\n",
    "        l.next = n\n",
    "        n.next = former_next\n",
    "\n",
    "    def search(self, val=0):    # O(n)\n",
    "        l = self.head\n",
    "        counter = 0\n",
    "        try:\n",
    "            while l.next:\n",
    "                counter += 1\n",
    "                if l.val == val:\n",
    "                    print(f'Found at position {counter}.')\n",
    "                    return l\n",
    "                l = l.next\n",
    "        except AttributeError: return None\n",
    "\n",
    "    def addTwoNumbers(self, l1, l2):\n",
    "        root = l1.head\n",
    "\n",
    "    def printList(self):            # O(n)\n",
    "        l = self.head\n",
    "        try:\n",
    "            while l.next:\n",
    "                print(l.val)\n",
    "                l = l.next\n",
    "            print(l.val)\n",
    "        except AttributeError: return None"
   ]
  },
  {
   "cell_type": "markdown",
   "metadata": {},
   "source": [
    "Note that appendRight, appendLeft, and popLeft are all O(1) time complexity functions. This is the advantage of a linked list. Because we always know the head and tail, we can reference them to perform these functions without knowing the rest of the list.\n",
    "\n",
    "appendRight() creates a new node, assigns it to the tail's next pointer, then reassigns the new node as the tail. In this way, the former tail now points to the new tail node. This takes the same amount of time every time the function is performed and is independent of the size of the list.\n",
    "\n",
    "appendLeft() creates a new node, sets the current head to the new node's next pointer, then reassigns the new node as the head.\n",
    "\n",
    "popLeft() notes the former head, sets the new head as the former head's next pointer, then returns the former head. Think of it as the computer simply forgetting the first item in the list and calling the next item the new start.\n",
    "\n",
    "popRight() is one of our O(n) time complexity functions because it depends on the length of the input. This is because a singly-linked list only points to the next node in the list. In order to replace the tail, you need to know the node before it in the list. That means we need to look through the length of the list, find the node that points to the tail, reassign it as the tail, and return the former tail.\n",
    "\n",
    "---\n",
    "\n",
    "To initialize a new list, call the class constructor and append some nodes. You can create an empty list too if you need. The class will create the list with None value and next pointer."
   ]
  },
  {
   "cell_type": "code",
   "execution_count": 39,
   "metadata": {},
   "outputs": [
    {
     "name": "stdout",
     "output_type": "stream",
     "text": [
      "page 1\n",
      "page 2\n",
      "page 3\n"
     ]
    }
   ],
   "source": [
    "ll = LinkedList()\n",
    "ll.appendRight('page 1')\n",
    "ll.appendRight('page 2')\n",
    "ll.appendRight('page 3')\n",
    "ll.printList()"
   ]
  },
  {
   "cell_type": "markdown",
   "metadata": {},
   "source": [
    "Now, we want to add a new value at the front, one at the end, and insert one into a specified position."
   ]
  },
  {
   "cell_type": "code",
   "execution_count": 40,
   "metadata": {},
   "outputs": [
    {
     "name": "stdout",
     "output_type": "stream",
     "text": [
      "cover\n",
      "foreward\n",
      "page 1\n",
      "page 2\n",
      "page 3\n",
      "page 5\n",
      "page 6\n"
     ]
    }
   ],
   "source": [
    "ll.appendLeft('foreward')\n",
    "ll.appendLeft('cover')\n",
    "ll.appendRight('page 5')\n",
    "ll.appendRight('page 6')\n",
    "ll.printList()"
   ]
  },
  {
   "cell_type": "markdown",
   "metadata": {},
   "source": [
    "Notice we have missed a page. Perhaps we intended to go back later and add it when it was prepared, or for any other reason. Insert it by (according to this particular implementation) calling the insertMid() function, and passing as an argument the desired position of 'page4'. For our current list we want to put 'page4' in the 6th position."
   ]
  },
  {
   "cell_type": "code",
   "execution_count": 41,
   "metadata": {},
   "outputs": [
    {
     "name": "stdout",
     "output_type": "stream",
     "text": [
      "cover\n",
      "foreward\n",
      "page 1\n",
      "page 2\n",
      "page 3\n",
      "page 4\n",
      "page 5\n",
      "page 6\n"
     ]
    }
   ],
   "source": [
    "ll.insertMid(6, 'page 4')\n",
    "ll.printList()"
   ]
  },
  {
   "cell_type": "markdown",
   "metadata": {},
   "source": [
    "Now we want to be able to pop values from the list. Remember, we built this data structure to be efficient at popping (removing and evaluating) from the beggining of the list. This is akin to setting aside the top page of a stack of papers after it has been read. As such, this popping from the left function should be as efficient as possible. To evaluate this efficiency we're going to time appending a value at the left, and popping a value from the left against the same functionality in an array. Both our linked list and our array will be initialized with 1,000,000, 100,000, 10,000, 1,000, 100, and 10 values (6 sets of 2)."
   ]
  },
  {
   "cell_type": "code",
   "execution_count": 48,
   "metadata": {},
   "outputs": [
    {
     "name": "stdout",
     "output_type": "stream",
     "text": [
      "Popping our linked list from left: 2437 nanoseconds\n",
      "Popping our array from left: 7807465 nanoseconds\n",
      "\n",
      "Popping our linked list from left: 2489 nanoseconds\n",
      "Popping our array from left: 613334 nanoseconds\n",
      "\n",
      "Popping our linked list from left: 1633 nanoseconds\n",
      "Popping our array from left: 53812 nanoseconds\n",
      "\n",
      "Popping our linked list from left: 1274 nanoseconds\n",
      "Popping our array from left: 5321 nanoseconds\n",
      "\n",
      "Popping our linked list from left: 1084 nanoseconds\n",
      "Popping our array from left: 809 nanoseconds\n",
      "\n",
      "Popping our linked list from left: 1096 nanoseconds\n",
      "Popping our array from left: 426 nanoseconds\n",
      "\n",
      "Popping our linked list from left: 1114 nanoseconds\n",
      "Popping our array from left: 271 nanoseconds\n",
      "\n"
     ]
    }
   ],
   "source": [
    "def make_iterables(size):\n",
    "    l = LinkedList()\n",
    "    a = []\n",
    "    for i in range(1, size):\n",
    "        l.appendRight(i)\n",
    "        a.append(i)\n",
    "    return l, a\n",
    "\n",
    "import time\n",
    "\n",
    "def time_pops_left(ll, a):\n",
    "\n",
    "    start = time.perf_counter_ns()\n",
    "    ll.popLeft()\n",
    "    print('Popping our linked list from left:', time.perf_counter_ns() - start, 'nanoseconds')\n",
    "    \n",
    "    start = time.perf_counter_ns()\n",
    "    a.pop(0)\n",
    "    print('Popping our array from left:', time.perf_counter_ns() - start, 'nanoseconds\\n')\n",
    "\n",
    "ll_10mil, a_10mil = make_iterables(10_000_000)\n",
    "ll_mil, a_mil = make_iterables(1_000_000)\n",
    "ll_100k, a_100k = make_iterables(100_000)\n",
    "ll_10k, a_10k = make_iterables(10_000)\n",
    "ll_1k, a_1k = make_iterables(1_000)\n",
    "ll_100, a_100 = make_iterables(100)\n",
    "ll_10, a_10 = make_iterables(10)\n",
    "\n",
    "\n",
    "time_pops_left(ll_10mil, a_10mil)\n",
    "time_pops_left(ll_mil, a_mil)\n",
    "time_pops_left(ll_100k, a_100k)\n",
    "time_pops_left(ll_10k, a_10k)\n",
    "time_pops_left(ll_1k, a_1k)\n",
    "time_pops_left(ll_100, a_100)\n",
    "time_pops_left(ll_10, a_10)"
   ]
  },
  {
   "attachments": {},
   "cell_type": "markdown",
   "metadata": {},
   "source": [
    "Notice something important: popping from our linked list always takes a very small amount of time, and doesn't deviate terribly far from this amount. In many cases, we see performance gains, due to a number of factors particular to the operating system upon which the tests were performed including how the algorithm is implemented in python.\n",
    "\n",
    "**But** popping from the array scaled with the size of the data, increasing by order of magnitude alongside the input. Starting from the last printed value above, and going up, popping an array vs. our linked list took roughly the same amount of time until we passed the 4th order of magnitude. Then popping from the array increased by an order of magnitude alongside the input size. This is what is called linear time complexity; it scales linearly with the input size. But, the time it took to pop from the linked list took the same; this is called constant time complexity.\n",
    "\n",
    "Now, let's try appending to the left."
   ]
  },
  {
   "cell_type": "code",
   "execution_count": 43,
   "metadata": {},
   "outputs": [
    {
     "name": "stdout",
     "output_type": "stream",
     "text": [
      "Inserting at left, array: 13587933\n",
      "Appending at left, linked list: 56677\n"
     ]
    }
   ],
   "source": [
    "start = time.perf_counter_ns()\n",
    "a_10mil.insert(0, 'Test')\n",
    "print(f'Inserting at left, array: {time.perf_counter_ns() - start}')\n",
    "\n",
    "start = time.perf_counter_ns()\n",
    "ll_10mil.appendLeft('Test')\n",
    "print(f'Appending at left, linked list: {time.perf_counter_ns() - start}')"
   ]
  },
  {
   "cell_type": "markdown",
   "metadata": {},
   "source": [
    "Again, we see that appending to the left in an array has scaled linearly with the input size, now the array size. However, the linked list again takes a far shorter time. Now, if we need to insert a value, even though inserting into our linked list is not a constant time complexity function, it still may be faster than the array in many circumstances."
   ]
  },
  {
   "cell_type": "code",
   "execution_count": 44,
   "metadata": {},
   "outputs": [
    {
     "name": "stdout",
     "output_type": "stream",
     "text": [
      "Inserting array at 1000: 8354275\n",
      "Inserting linked list at 1000: 224663\n"
     ]
    }
   ],
   "source": [
    "start = time.perf_counter_ns()\n",
    "a_10mil.insert(1000, 'Test 1000')\n",
    "print(f'Inserting array at 1000: {time.perf_counter_ns() - start}')\n",
    "\n",
    "start = time.perf_counter_ns()\n",
    "ll_10mil.insertMid(1000, 'Test 1000')\n",
    "print(f'Inserting linked list at 1000: {time.perf_counter_ns() - start}')"
   ]
  },
  {
   "cell_type": "markdown",
   "metadata": {},
   "source": [
    "In this case, inserting in our linked list at position 1000 took less time than the array because the linked list only had to navigate 1000 elements to find it's place to insert (remember: a linked list isn't indexed, so it has to look at each value). When the array insert was performed, the insertion went straight to position 1000, but then had to reassign the indices on all ~10 million - 1000 values. Note, when we switch to an insert towards the high end of values what happens:"
   ]
  },
  {
   "cell_type": "code",
   "execution_count": 45,
   "metadata": {},
   "outputs": [
    {
     "name": "stdout",
     "output_type": "stream",
     "text": [
      "Inserting array at 7.5 mil: 1748319\n",
      "Inserting linked list at 7.5 mil: 1009835004\n"
     ]
    }
   ],
   "source": [
    "start = time.perf_counter_ns()\n",
    "a_10mil.insert(7_500_000, 'Test 7.5 mil')\n",
    "print(f'Inserting array at 7.5 mil: {time.perf_counter_ns() - start}')\n",
    "\n",
    "start = time.perf_counter_ns()\n",
    "ll_10mil.insertMid(7_500_000, 'Test 7.5 mil')\n",
    "print(f'Inserting linked list at 7.5 mil: {time.perf_counter_ns() - start}')"
   ]
  },
  {
   "cell_type": "markdown",
   "metadata": {},
   "source": [
    "Indeed, inserting later in the list tipped the scales in favor of the array, which had far fewer indices to reassign after the insert, versus the linked list, which had to navigate 7.5 million values before finding the insertion point. Due to specifics about how the linked list is implemented, insertions are dreadfully inefficient as evinced by comparing insertions at the halfway mark."
   ]
  },
  {
   "cell_type": "code",
   "execution_count": 46,
   "metadata": {},
   "outputs": [
    {
     "name": "stdout",
     "output_type": "stream",
     "text": [
      "Inserting array at 5 mil: 5599635\n",
      "Inserting linked list at 5 mil: 672152038\n"
     ]
    }
   ],
   "source": [
    "start = time.perf_counter_ns()\n",
    "a_10mil.insert(5_000_000, 'Test 7.5 mil')\n",
    "print(f'Inserting array at 5 mil: {time.perf_counter_ns() - start}')\n",
    "\n",
    "start = time.perf_counter_ns()\n",
    "ll_10mil.insertMid(5_000_000, 'Test 7.5 mil')\n",
    "print(f'Inserting linked list at 5 mil: {time.perf_counter_ns() - start}')"
   ]
  },
  {
   "cell_type": "markdown",
   "metadata": {},
   "source": [
    "Finally, when should we not use a singly-linked list? In many cases, but in particular, when we know we will be appending to the end. Why? Consider again what properties a singly-linked last has. \n",
    "\n",
    "*Head, tail, length.*\n",
    "\n",
    "And remember, nodes only know which node is next. So if we want to pop from the end of the list, we need to know which node precedes the tail. We can find the tail immediately, because our list knows which node is the tail. But in order to pop from the end we have to remove the tail, and reassign the next to last node as the tail. But we don't know which node that is. So we have to iterate the entire list, find the second to last node, make a note of it, remove the tail, store its value, resassign the noted node as the tail, and return the former tail to fulfill the function call."
   ]
  },
  {
   "cell_type": "code",
   "execution_count": 47,
   "metadata": {},
   "outputs": [
    {
     "name": "stdout",
     "output_type": "stream",
     "text": [
      "Found at position 6.\n"
     ]
    },
    {
     "data": {
      "text/plain": [
       "<__main__.ListNode at 0x7f1d61173a90>"
      ]
     },
     "execution_count": 47,
     "metadata": {},
     "output_type": "execute_result"
    }
   ],
   "source": [
    "ll.search('page 4')"
   ]
  },
  {
   "cell_type": "markdown",
   "metadata": {},
   "source": [
    "### The Add Two Numbers problem\n",
    "\n",
    "From Leetcode:\n",
    "> You are given two non-empty linked lists representing two non-negative integers. The digits are stored in reverse order, and each of their nodes contains a single digit. Add the two numbers and return the sum as a linked list.\n",
    "> https://leetcode.com/problems/add-two-numbers/"
   ]
  }
 ],
 "metadata": {
  "kernelspec": {
   "display_name": "Python 3.10.7 64-bit",
   "language": "python",
   "name": "python3"
  },
  "language_info": {
   "codemirror_mode": {
    "name": "ipython",
    "version": 3
   },
   "file_extension": ".py",
   "mimetype": "text/x-python",
   "name": "python",
   "nbconvert_exporter": "python",
   "pygments_lexer": "ipython3",
   "version": "3.10.7"
  },
  "orig_nbformat": 4,
  "vscode": {
   "interpreter": {
    "hash": "916dbcbb3f70747c44a77c7bcd40155683ae19c65e1c03b4aa3499c5328201f1"
   }
  }
 },
 "nbformat": 4,
 "nbformat_minor": 2
}
